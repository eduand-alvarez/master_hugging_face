{
 "cells": [
  {
   "cell_type": "markdown",
   "id": "37e992d3-79d0-459a-9629-ba76982e69fb",
   "metadata": {},
   "source": [
    "# Introduction\n",
    "In this notebook, we'll introduce you to the world of Hugging Face. We'll cover the basics of both the Transformers and Datasets libraries. Hugging Face has become the go-to library for state-of-the-art Natural Language Processing (NLP) tasks, offering a wide variety of pre-trained models and datasets."
   ]
  },
  {
   "cell_type": "code",
   "execution_count": 1,
   "id": "4f1ef209-6cb4-46ba-8f41-bfb72b64dd79",
   "metadata": {},
   "outputs": [
    {
     "name": "stdout",
     "output_type": "stream",
     "text": [
      "Requirement already satisfied: transformers in c:\\users\\alvareze\\miniconda3\\envs\\playground\\lib\\site-packages (4.34.1)\n",
      "Requirement already satisfied: huggingface-hub<1.0,>=0.16.4 in c:\\users\\alvareze\\miniconda3\\envs\\playground\\lib\\site-packages (from transformers) (0.16.4)\n",
      "Requirement already satisfied: filelock in c:\\users\\alvareze\\miniconda3\\envs\\playground\\lib\\site-packages (from transformers) (3.12.2)\n",
      "Requirement already satisfied: packaging>=20.0 in c:\\users\\alvareze\\miniconda3\\envs\\playground\\lib\\site-packages (from transformers) (21.3)\n",
      "Requirement already satisfied: tqdm>=4.27 in c:\\users\\alvareze\\miniconda3\\envs\\playground\\lib\\site-packages (from transformers) (4.66.0)\n",
      "Requirement already satisfied: pyyaml>=5.1 in c:\\users\\alvareze\\appdata\\roaming\\python\\python39\\site-packages (from transformers) (6.0)\n",
      "Requirement already satisfied: safetensors>=0.3.1 in c:\\users\\alvareze\\miniconda3\\envs\\playground\\lib\\site-packages (from transformers) (0.4.0)\n",
      "Requirement already satisfied: tokenizers<0.15,>=0.14 in c:\\users\\alvareze\\miniconda3\\envs\\playground\\lib\\site-packages (from transformers) (0.14.1)\n",
      "Requirement already satisfied: regex!=2019.12.17 in c:\\users\\alvareze\\miniconda3\\envs\\playground\\lib\\site-packages (from transformers) (2023.10.3)\n",
      "Requirement already satisfied: requests in c:\\users\\alvareze\\miniconda3\\envs\\playground\\lib\\site-packages (from transformers) (2.31.0)\n",
      "Requirement already satisfied: numpy>=1.17 in c:\\users\\alvareze\\miniconda3\\envs\\playground\\lib\\site-packages (from transformers) (1.24.3)\n",
      "Requirement already satisfied: fsspec in c:\\users\\alvareze\\miniconda3\\envs\\playground\\lib\\site-packages (from huggingface-hub<1.0,>=0.16.4->transformers) (2023.6.0)\n",
      "Requirement already satisfied: typing-extensions>=3.7.4.3 in c:\\users\\alvareze\\miniconda3\\envs\\playground\\lib\\site-packages (from huggingface-hub<1.0,>=0.16.4->transformers) (4.6.2)\n",
      "Requirement already satisfied: pyparsing!=3.0.5,>=2.0.2 in c:\\users\\alvareze\\miniconda3\\envs\\playground\\lib\\site-packages (from packaging>=20.0->transformers) (3.0.9)\n",
      "Requirement already satisfied: colorama in c:\\users\\alvareze\\miniconda3\\envs\\playground\\lib\\site-packages (from tqdm>=4.27->transformers) (0.4.4)\n",
      "Requirement already satisfied: idna<4,>=2.5 in c:\\users\\alvareze\\miniconda3\\envs\\playground\\lib\\site-packages (from requests->transformers) (3.4)\n",
      "Requirement already satisfied: charset-normalizer<4,>=2 in c:\\users\\alvareze\\miniconda3\\envs\\playground\\lib\\site-packages (from requests->transformers) (3.1.0)\n",
      "Requirement already satisfied: urllib3<3,>=1.21.1 in c:\\users\\alvareze\\miniconda3\\envs\\playground\\lib\\site-packages (from requests->transformers) (2.0.2)\n",
      "Requirement already satisfied: certifi>=2017.4.17 in c:\\users\\alvareze\\miniconda3\\envs\\playground\\lib\\site-packages (from requests->transformers) (2022.6.15)\n",
      "Requirement already satisfied: datasets in c:\\users\\alvareze\\miniconda3\\envs\\playground\\lib\\site-packages (2.14.4)\n",
      "Requirement already satisfied: dill<0.3.8,>=0.3.0 in c:\\users\\alvareze\\miniconda3\\envs\\playground\\lib\\site-packages (from datasets) (0.3.7)\n",
      "Requirement already satisfied: huggingface-hub<1.0.0,>=0.14.0 in c:\\users\\alvareze\\miniconda3\\envs\\playground\\lib\\site-packages (from datasets) (0.16.4)\n",
      "Requirement already satisfied: xxhash in c:\\users\\alvareze\\miniconda3\\envs\\playground\\lib\\site-packages (from datasets) (3.3.0)\n",
      "Requirement already satisfied: tqdm>=4.62.1 in c:\\users\\alvareze\\miniconda3\\envs\\playground\\lib\\site-packages (from datasets) (4.66.0)\n",
      "Requirement already satisfied: pyyaml>=5.1 in c:\\users\\alvareze\\appdata\\roaming\\python\\python39\\site-packages (from datasets) (6.0)\n",
      "Requirement already satisfied: aiohttp in c:\\users\\alvareze\\miniconda3\\envs\\playground\\lib\\site-packages (from datasets) (3.8.5)\n",
      "Requirement already satisfied: numpy>=1.17 in c:\\users\\alvareze\\miniconda3\\envs\\playground\\lib\\site-packages (from datasets) (1.24.3)\n",
      "Requirement already satisfied: packaging in c:\\users\\alvareze\\miniconda3\\envs\\playground\\lib\\site-packages (from datasets) (21.3)\n",
      "Requirement already satisfied: pyarrow>=8.0.0 in c:\\users\\alvareze\\miniconda3\\envs\\playground\\lib\\site-packages (from datasets) (12.0.0)\n",
      "Requirement already satisfied: fsspec[http]>=2021.11.1 in c:\\users\\alvareze\\miniconda3\\envs\\playground\\lib\\site-packages (from datasets) (2023.6.0)\n",
      "Requirement already satisfied: requests>=2.19.0 in c:\\users\\alvareze\\miniconda3\\envs\\playground\\lib\\site-packages (from datasets) (2.31.0)\n",
      "Requirement already satisfied: pandas in c:\\users\\alvareze\\miniconda3\\envs\\playground\\lib\\site-packages (from datasets) (2.0.2)\n",
      "Requirement already satisfied: multiprocess in c:\\users\\alvareze\\miniconda3\\envs\\playground\\lib\\site-packages (from datasets) (0.70.15)\n",
      "Requirement already satisfied: yarl<2.0,>=1.0 in c:\\users\\alvareze\\miniconda3\\envs\\playground\\lib\\site-packages (from aiohttp->datasets) (1.9.2)\n",
      "Requirement already satisfied: charset-normalizer<4.0,>=2.0 in c:\\users\\alvareze\\miniconda3\\envs\\playground\\lib\\site-packages (from aiohttp->datasets) (3.1.0)\n",
      "Requirement already satisfied: aiosignal>=1.1.2 in c:\\users\\alvareze\\miniconda3\\envs\\playground\\lib\\site-packages (from aiohttp->datasets) (1.3.1)\n",
      "Requirement already satisfied: attrs>=17.3.0 in c:\\users\\alvareze\\miniconda3\\envs\\playground\\lib\\site-packages (from aiohttp->datasets) (23.1.0)\n",
      "Requirement already satisfied: multidict<7.0,>=4.5 in c:\\users\\alvareze\\miniconda3\\envs\\playground\\lib\\site-packages (from aiohttp->datasets) (6.0.4)\n",
      "Requirement already satisfied: async-timeout<5.0,>=4.0.0a3 in c:\\users\\alvareze\\miniconda3\\envs\\playground\\lib\\site-packages (from aiohttp->datasets) (4.0.2)\n",
      "Requirement already satisfied: frozenlist>=1.1.1 in c:\\users\\alvareze\\miniconda3\\envs\\playground\\lib\\site-packages (from aiohttp->datasets) (1.4.0)\n",
      "Requirement already satisfied: filelock in c:\\users\\alvareze\\miniconda3\\envs\\playground\\lib\\site-packages (from huggingface-hub<1.0.0,>=0.14.0->datasets) (3.12.2)\n",
      "Requirement already satisfied: typing-extensions>=3.7.4.3 in c:\\users\\alvareze\\miniconda3\\envs\\playground\\lib\\site-packages (from huggingface-hub<1.0.0,>=0.14.0->datasets) (4.6.2)\n",
      "Requirement already satisfied: pyparsing!=3.0.5,>=2.0.2 in c:\\users\\alvareze\\miniconda3\\envs\\playground\\lib\\site-packages (from packaging->datasets) (3.0.9)\n",
      "Requirement already satisfied: urllib3<3,>=1.21.1 in c:\\users\\alvareze\\miniconda3\\envs\\playground\\lib\\site-packages (from requests>=2.19.0->datasets) (2.0.2)\n",
      "Requirement already satisfied: certifi>=2017.4.17 in c:\\users\\alvareze\\miniconda3\\envs\\playground\\lib\\site-packages (from requests>=2.19.0->datasets) (2022.6.15)\n",
      "Requirement already satisfied: idna<4,>=2.5 in c:\\users\\alvareze\\miniconda3\\envs\\playground\\lib\\site-packages (from requests>=2.19.0->datasets) (3.4)\n",
      "Requirement already satisfied: colorama in c:\\users\\alvareze\\miniconda3\\envs\\playground\\lib\\site-packages (from tqdm>=4.62.1->datasets) (0.4.4)\n",
      "Requirement already satisfied: pytz>=2020.1 in c:\\users\\alvareze\\miniconda3\\envs\\playground\\lib\\site-packages (from pandas->datasets) (2023.3)\n",
      "Requirement already satisfied: python-dateutil>=2.8.2 in c:\\users\\alvareze\\miniconda3\\envs\\playground\\lib\\site-packages (from pandas->datasets) (2.8.2)\n",
      "Requirement already satisfied: tzdata>=2022.1 in c:\\users\\alvareze\\miniconda3\\envs\\playground\\lib\\site-packages (from pandas->datasets) (2023.3)\n",
      "Requirement already satisfied: six>=1.5 in c:\\users\\alvareze\\miniconda3\\envs\\playground\\lib\\site-packages (from python-dateutil>=2.8.2->pandas->datasets) (1.16.0)\n",
      "Requirement already satisfied: torch in c:\\users\\alvareze\\miniconda3\\envs\\playground\\lib\\site-packages (2.1.0)\n",
      "Requirement already satisfied: networkx in c:\\users\\alvareze\\miniconda3\\envs\\playground\\lib\\site-packages (from torch) (3.1)\n",
      "Requirement already satisfied: typing-extensions in c:\\users\\alvareze\\miniconda3\\envs\\playground\\lib\\site-packages (from torch) (4.6.2)\n",
      "Requirement already satisfied: fsspec in c:\\users\\alvareze\\miniconda3\\envs\\playground\\lib\\site-packages (from torch) (2023.6.0)\n",
      "Requirement already satisfied: sympy in c:\\users\\alvareze\\miniconda3\\envs\\playground\\lib\\site-packages (from torch) (1.12)\n",
      "Requirement already satisfied: filelock in c:\\users\\alvareze\\miniconda3\\envs\\playground\\lib\\site-packages (from torch) (3.12.2)\n",
      "Requirement already satisfied: jinja2 in c:\\users\\alvareze\\miniconda3\\envs\\playground\\lib\\site-packages (from torch) (3.1.2)\n",
      "Requirement already satisfied: MarkupSafe>=2.0 in c:\\users\\alvareze\\miniconda3\\envs\\playground\\lib\\site-packages (from jinja2->torch) (2.1.2)\n",
      "Requirement already satisfied: mpmath>=0.19 in c:\\users\\alvareze\\miniconda3\\envs\\playground\\lib\\site-packages (from sympy->torch) (1.3.0)\n"
     ]
    }
   ],
   "source": [
    "# Setting Up\n",
    "# First, let's install the required libraries:\n",
    "!pip install transformers\n",
    "!pip install datasets\n",
    "!pip install torch"
   ]
  },
  {
   "cell_type": "markdown",
   "id": "f4045377-52c9-41c3-b1b7-8c09ec04ff65",
   "metadata": {},
   "source": [
    "###  Transformers\n",
    "Transformers provides thousands of pretrained models to perform tasks on texts such as classification, information extraction, and text generation. Let's explore its basic functionalities."
   ]
  },
  {
   "cell_type": "code",
   "execution_count": 2,
   "id": "bd588a83-abe8-41a3-accb-483eee549b29",
   "metadata": {},
   "outputs": [
    {
     "name": "stderr",
     "output_type": "stream",
     "text": [
      "c:\\Users\\alvareze\\Miniconda3\\envs\\playground\\lib\\site-packages\\tqdm\\auto.py:21: TqdmWarning: IProgress not found. Please update jupyter and ipywidgets. See https://ipywidgets.readthedocs.io/en/stable/user_install.html\n",
      "  from .autonotebook import tqdm as notebook_tqdm\n"
     ]
    }
   ],
   "source": [
    "# Loading a Pre-trained Model\n",
    "# We'll start by loading the BERT model, a popular transformer model:\n",
    "\n",
    "from transformers import BertTokenizer, BertModel\n",
    "\n",
    "# Load pre-trained BERT tokenizer and model\n",
    "tokenizer = BertTokenizer.from_pretrained(\"bert-base-uncased\")\n",
    "model = BertModel.from_pretrained(\"bert-base-uncased\")"
   ]
  },
  {
   "cell_type": "markdown",
   "id": "e13e1bd2-6b27-4feb-8b4b-38a19180c24c",
   "metadata": {},
   "source": [
    "###  Tokenization\n",
    "Before we can feed our text to the model, we need to convert it into tokens. This process is called tokenization."
   ]
  },
  {
   "cell_type": "code",
   "execution_count": 3,
   "id": "f1b86d2a-c5a6-497d-a29d-3d3e83206c84",
   "metadata": {},
   "outputs": [
    {
     "name": "stdout",
     "output_type": "stream",
     "text": [
      "{'input_ids': tensor([[  101, 17662,  2227,  2003,  4526, 10938,  8082,  2974,   999,   102]]), 'token_type_ids': tensor([[0, 0, 0, 0, 0, 0, 0, 0, 0, 0]]), 'attention_mask': tensor([[1, 1, 1, 1, 1, 1, 1, 1, 1, 1]])}\n"
     ]
    }
   ],
   "source": [
    "text = \"Hugging Face is creating transformative technology!\"\n",
    "encoded_input = tokenizer(text, return_tensors='pt')\n",
    "print(encoded_input)"
   ]
  },
  {
   "cell_type": "markdown",
   "id": "6fca2743-169a-4c46-9700-80bf97753778",
   "metadata": {},
   "source": [
    "# Model Inference\n",
    "Now, we can feed our tokenized input into the model to get embeddings:"
   ]
  },
  {
   "cell_type": "code",
   "execution_count": 4,
   "id": "b5dd9636-18ca-42d3-980a-84fdd86dacbc",
   "metadata": {},
   "outputs": [
    {
     "name": "stdout",
     "output_type": "stream",
     "text": [
      "tensor([[[ 6.3859e-02,  5.0140e-02,  1.2451e-01,  ..., -4.0915e-01,\n",
      "           1.4366e-01,  4.1960e-01],\n",
      "         [ 2.7236e-02,  1.5208e-02,  8.3556e-01,  ..., -1.0636e-01,\n",
      "           1.8042e-01,  4.1943e-01],\n",
      "         [ 4.1696e-01, -2.5821e-01,  4.7547e-01,  ..., -3.6237e-01,\n",
      "           7.8667e-02, -1.3397e-02],\n",
      "         ...,\n",
      "         [ 1.2395e-04, -2.7653e-01,  5.3409e-01,  ..., -8.0864e-01,\n",
      "          -6.6008e-02, -2.4298e-01],\n",
      "         [ 1.1219e-01, -2.1510e-01, -1.7536e-01,  ...,  5.5425e-01,\n",
      "           7.1288e-02, -5.9522e-01],\n",
      "         [ 6.9718e-01,  2.9182e-01, -1.6338e-01,  ...,  1.9831e-02,\n",
      "          -6.3510e-01, -3.9752e-01]]])\n"
     ]
    }
   ],
   "source": [
    "import torch as torch\n",
    "\n",
    "with torch.no_grad():\n",
    "    output = model(**encoded_input)\n",
    "    embeddings = output.last_hidden_state\n",
    "print(embeddings)"
   ]
  },
  {
   "cell_type": "markdown",
   "id": "5acf54dd-55f1-4b45-84ed-000547e40ed5",
   "metadata": {},
   "source": [
    "# Datasets\n",
    "Hugging Face also provides a library called datasets which makes it easy to access a large number of datasets used in NLP research."
   ]
  },
  {
   "cell_type": "code",
   "execution_count": 5,
   "id": "17fc5e39-98ac-41c7-af10-67eae625e591",
   "metadata": {},
   "outputs": [
    {
     "name": "stdout",
     "output_type": "stream",
     "text": [
      "DatasetDict({\n",
      "    train: Dataset({\n",
      "        features: ['text', 'label'],\n",
      "        num_rows: 25000\n",
      "    })\n",
      "    test: Dataset({\n",
      "        features: ['text', 'label'],\n",
      "        num_rows: 25000\n",
      "    })\n",
      "    unsupervised: Dataset({\n",
      "        features: ['text', 'label'],\n",
      "        num_rows: 50000\n",
      "    })\n",
      "})\n"
     ]
    }
   ],
   "source": [
    "# Loading a Dataset\n",
    "# For demonstration purposes, we'll load the imdb dataset, a popular dataset for sentiment analysis:\n",
    "\n",
    "from datasets import load_dataset\n",
    "\n",
    "# Load the IMDB dataset\n",
    "dataset = load_dataset(\"imdb\")\n",
    "print(dataset)"
   ]
  },
  {
   "cell_type": "markdown",
   "id": "3ec5c2b5-5d59-473d-be4a-7063dbde30f4",
   "metadata": {},
   "source": [
    "## Exploring the Dataset\n",
    "Datasets in the datasets library are often split into 'train', 'test', and sometimes 'validation' subsets. Let's take a peek at the first few entries of the training set:"
   ]
  },
  {
   "cell_type": "code",
   "execution_count": 6,
   "id": "31aa3573-0e7a-487c-8092-8476c3ffcbd1",
   "metadata": {},
   "outputs": [
    {
     "name": "stdout",
     "output_type": "stream",
     "text": [
      "{'text': ['I rented I AM CURIOUS-YELLOW from my video store because of all the controversy that surrounded it when it was first released in 1967. I also heard that at first it was seized by U.S. customs if it ever tried to enter this country, therefore being a fan of films considered \"controversial\" I really had to see this for myself.<br /><br />The plot is centered around a young Swedish drama student named Lena who wants to learn everything she can about life. In particular she wants to focus her attentions to making some sort of documentary on what the average Swede thought about certain political issues such as the Vietnam War and race issues in the United States. In between asking politicians and ordinary denizens of Stockholm about their opinions on politics, she has sex with her drama teacher, classmates, and married men.<br /><br />What kills me about I AM CURIOUS-YELLOW is that 40 years ago, this was considered pornographic. Really, the sex and nudity scenes are few and far between, even then it\\'s not shot like some cheaply made porno. While my countrymen mind find it shocking, in reality sex and nudity are a major staple in Swedish cinema. Even Ingmar Bergman, arguably their answer to good old boy John Ford, had sex scenes in his films.<br /><br />I do commend the filmmakers for the fact that any sex shown in the film is shown for artistic purposes rather than just to shock people and make money to be shown in pornographic theaters in America. I AM CURIOUS-YELLOW is a good film for anyone wanting to study the meat and potatoes (no pun intended) of Swedish cinema. But really, this film doesn\\'t have much of a plot.', '\"I Am Curious: Yellow\" is a risible and pretentious steaming pile. It doesn\\'t matter what one\\'s political views are because this film can hardly be taken seriously on any level. As for the claim that frontal male nudity is an automatic NC-17, that isn\\'t true. I\\'ve seen R-rated films with male nudity. Granted, they only offer some fleeting views, but where are the R-rated films with gaping vulvas and flapping labia? Nowhere, because they don\\'t exist. The same goes for those crappy cable shows: schlongs swinging in the breeze but not a clitoris in sight. And those pretentious indie movies like The Brown Bunny, in which we\\'re treated to the site of Vincent Gallo\\'s throbbing johnson, but not a trace of pink visible on Chloe Sevigny. Before crying (or implying) \"double-standard\" in matters of nudity, the mentally obtuse should take into account one unavoidably obvious anatomical difference between men and women: there are no genitals on display when actresses appears nude, and the same cannot be said for a man. In fact, you generally won\\'t see female genitals in an American film in anything short of porn or explicit erotica. This alleged double-standard is less a double standard than an admittedly depressing ability to come to terms culturally with the insides of women\\'s bodies.', \"If only to avoid making this type of film in the future. This film is interesting as an experiment but tells no cogent story.<br /><br />One might feel virtuous for sitting thru it because it touches on so many IMPORTANT issues but it does so without any discernable motive. The viewer comes away with no new perspectives (unless one comes up with one while one's mind wanders, as it will invariably do during this pointless film).<br /><br />One might better spend one's time staring out a window at a tree growing.<br /><br />\", \"This film was probably inspired by Godard's Masculin, féminin and I urge you to see that film instead.<br /><br />The film has two strong elements and those are, (1) the realistic acting (2) the impressive, undeservedly good, photo. Apart from that, what strikes me most is the endless stream of silliness. Lena Nyman has to be most annoying actress in the world. She acts so stupid and with all the nudity in this film,...it's unattractive. Comparing to Godard's film, intellectuality has been replaced with stupidity. Without going too far on this subject, I would say that follows from the difference in ideals between the French and the Swedish society.<br /><br />A movie of its time, and place. 2/10.\", 'Oh, brother...after hearing about this ridiculous film for umpteen years all I can think of is that old Peggy Lee song..<br /><br />\"Is that all there is??\" ...I was just an early teen when this smoked fish hit the U.S. I was too young to get in the theater (although I did manage to sneak into \"Goodbye Columbus\"). Then a screening at a local film museum beckoned - Finally I could see this film, except now I was as old as my parents were when they schlepped to see it!!<br /><br />The ONLY reason this film was not condemned to the anonymous sands of time was because of the obscenity case sparked by its U.S. release. MILLIONS of people flocked to this stinker, thinking they were going to see a sex film...Instead, they got lots of closeups of gnarly, repulsive Swedes, on-street interviews in bland shopping malls, asinie political pretension...and feeble who-cares simulated sex scenes with saggy, pale actors.<br /><br />Cultural icon, holy grail, historic artifact..whatever this thing was, shred it, burn it, then stuff the ashes in a lead box!<br /><br />Elite esthetes still scrape to find value in its boring pseudo revolutionary political spewings..But if it weren\\'t for the censorship scandal, it would have been ignored, then forgotten.<br /><br />Instead, the \"I Am Blank, Blank\" rhythymed title was repeated endlessly for years as a titilation for porno films (I am Curious, Lavender - for gay films, I Am Curious, Black - for blaxploitation films, etc..) and every ten years or so the thing rises from the dead, to be viewed by a new generation of suckers who want to see that \"naughty sex film\" that \"revolutionized the film industry\"...<br /><br />Yeesh, avoid like the plague..Or if you MUST see it - rent the video and fast forward to the \"dirty\" parts, just to get it over with.<br /><br />'], 'label': [0, 0, 0, 0, 0]}\n"
     ]
    }
   ],
   "source": [
    "print(dataset['train'][0:5])"
   ]
  },
  {
   "cell_type": "markdown",
   "id": "c42352de-4176-4a7f-9e72-e8d407f13f07",
   "metadata": {},
   "source": [
    "# Conclusion\n",
    "Congratulations! You've just had a brief introduction to Hugging Face's Transformers and Datasets. There's a lot more to explore, including fine-tuning models on custom datasets, leveraging community-contributed models, and more. We encourage you to dive deeper into the documentation and community forums to continue your learning journey.\n",
    "\n",
    "Remember, the strength of Hugging Face lies not just in its powerful tools, but also in its vibrant community. Don't hesitate to share your projects and ask questions!\n",
    "\n"
   ]
  }
 ],
 "metadata": {
  "kernelspec": {
   "display_name": "Python 3 (ipykernel)",
   "language": "python",
   "name": "python3"
  },
  "language_info": {
   "codemirror_mode": {
    "name": "ipython",
    "version": 3
   },
   "file_extension": ".py",
   "mimetype": "text/x-python",
   "name": "python",
   "nbconvert_exporter": "python",
   "pygments_lexer": "ipython3",
   "version": "3.9.11"
  }
 },
 "nbformat": 4,
 "nbformat_minor": 5
}
